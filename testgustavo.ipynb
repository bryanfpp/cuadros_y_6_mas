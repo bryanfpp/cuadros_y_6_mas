{
 "cells": [
  {
   "cell_type": "code",
   "execution_count": 1,
   "metadata": {},
   "outputs": [],
   "source": [
    "import CodeBase.gustavo as gu"
   ]
  },
  {
   "cell_type": "code",
   "execution_count": 14,
   "metadata": {},
   "outputs": [
    {
     "name": "stdout",
     "output_type": "stream",
     "text": [
      "[0, 5, 4, 1, 3]\n",
      "[2, 3, 5, 7, 6]\n"
     ]
    }
   ],
   "source": [
    "clases = [0, 1, 3, 4, 5]\n",
    "clase = [0, 5, 4, 1, 3]\n",
    "frecunacia = [2, 3, 5, 7, 6]\n",
    "clases = [0, 5, 4, 1, 3]\n",
    "fre_or = gu.fac_to(frecunacia,clases,clase)\n",
    "print(clases)\n",
    "print(fre_or)\n"
   ]
  }
 ],
 "metadata": {
  "kernelspec": {
   "display_name": "Python 3",
   "language": "python",
   "name": "python3"
  },
  "language_info": {
   "codemirror_mode": {
    "name": "ipython",
    "version": 3
   },
   "file_extension": ".py",
   "mimetype": "text/x-python",
   "name": "python",
   "nbconvert_exporter": "python",
   "pygments_lexer": "ipython3",
   "version": "3.11.4"
  }
 },
 "nbformat": 4,
 "nbformat_minor": 2
}
