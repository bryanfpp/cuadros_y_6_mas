{
 "cells": [
  {
   "cell_type": "code",
   "execution_count": 1,
   "metadata": {},
   "outputs": [
    {
     "ename": "ModuleNotFoundError",
     "evalue": "No module named 'CodeBase'",
     "output_type": "error",
     "traceback": [
      "\u001b[0;31m---------------------------------------------------------------------------\u001b[0m",
      "\u001b[0;31mModuleNotFoundError\u001b[0m                       Traceback (most recent call last)",
      "Cell \u001b[0;32mIn[1], line 1\u001b[0m\n\u001b[0;32m----> 1\u001b[0m \u001b[38;5;28;01mimport\u001b[39;00m \u001b[38;5;21;01mCodeBase\u001b[39;00m\u001b[38;5;21;01m.\u001b[39;00m\u001b[38;5;21;01malejandro\u001b[39;00m \u001b[38;5;28;01mas\u001b[39;00m \u001b[38;5;21;01mal\u001b[39;00m\n\u001b[1;32m      2\u001b[0m \u001b[38;5;28;01mimport\u001b[39;00m \u001b[38;5;21;01mCodeBase\u001b[39;00m\u001b[38;5;21;01m.\u001b[39;00m\u001b[38;5;21;01mbryan\u001b[39;00m \u001b[38;5;28;01mas\u001b[39;00m \u001b[38;5;21;01mbr\u001b[39;00m\n\u001b[1;32m      3\u001b[0m \u001b[38;5;28;01mimport\u001b[39;00m \u001b[38;5;21;01mCodeBase\u001b[39;00m\u001b[38;5;21;01m.\u001b[39;00m\u001b[38;5;21;01mdilan\u001b[39;00m \u001b[38;5;28;01mas\u001b[39;00m \u001b[38;5;21;01mdi\u001b[39;00m\n",
      "\u001b[0;31mModuleNotFoundError\u001b[0m: No module named 'CodeBase'"
     ]
    }
   ],
   "source": [
    "import CodeBase.alejandro as al\n",
    "import CodeBase.bryan as br\n",
    "import CodeBase.dilan as di\n",
    "import CodeBase.galilea as ga\n",
    "import CodeBase.gustavo as gu\n",
    "import CodeBase.leilani as le"
   ]
  },
  {
   "cell_type": "code",
   "execution_count": null,
   "metadata": {},
   "outputs": [
    {
     "name": "stdout",
     "output_type": "stream",
     "text": [
      "[0, 1, 3, 4, 5]\n",
      "[2, 6, 7, 3, 5]\n",
      "[8.695652173913043, 26.08695652173913, 30.434782608695656, 13.043478260869565, 21.73913043478261]\n",
      "[8.695652173913043, 34.78260869565217, 65.21739130434783, 78.26086956521739, 100.0]\n"
     ]
    }
   ],
   "source": [
    "ls = [0,0,5,5,5,5,5,5,4,4,4,4,4,4,4,1,1,1,3,3,3,3,3]\n",
    "clase,frecuencia = br.frec_abs(ls)\n",
    "clases = di.ordenar_abs(clase)\n",
    "fre_or = gu.fac_to(frecuencia,clases,clase)\n",
    "fr= ga.fr_abs(fre_or)\n",
    "fg = le.mu_abs(fr)\n",
    "suma = al.sum_abs(fg)\n",
    "suma_total = al.sum_abs(fg)\n",
    "print(clase)\n",
    "print(fre_or)\n",
    "print(fg)\n",
    "print(suma_total)"
   ]
  }
 ],
 "metadata": {
  "kernelspec": {
   "display_name": "Python 3",
   "language": "python",
   "name": "python3"
  },
  "language_info": {
   "codemirror_mode": {
    "name": "ipython",
    "version": 3
   },
   "file_extension": ".py",
   "mimetype": "text/x-python",
   "name": "python",
   "nbconvert_exporter": "python",
   "pygments_lexer": "ipython3",
   "version": "3.11.4"
  }
 },
 "nbformat": 4,
 "nbformat_minor": 2
}
