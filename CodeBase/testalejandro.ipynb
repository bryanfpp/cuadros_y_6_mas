{
 "cells": [
  {
   "cell_type": "code",
   "execution_count": 1,
   "metadata": {},
   "outputs": [],
   "source": [
    "import CodeBase.alejandro as al"
   ]
  },
  {
   "cell_type": "code",
   "execution_count": 3,
   "metadata": {},
   "outputs": [
    {
     "name": "stdout",
     "output_type": "stream",
     "text": [
      "[8.695652173913043, 21.73913043478261, 43.47826086956522, 73.91304347826087, 100.0]\n"
     ]
    }
   ],
   "source": [
    "fg = [8.695652173913043, 13.043478260869565, 21.73913043478261, 30.434782608695656, 26.08695652173913]\n",
    "suma = al.sum_abs(fg)\n",
    "suma_total = al.sum_abs(fg)\n",
    "print(suma_total)"
   ]
  }
 ],
 "metadata": {
  "kernelspec": {
   "display_name": "Python 3",
   "language": "python",
   "name": "python3"
  },
  "language_info": {
   "codemirror_mode": {
    "name": "ipython",
    "version": 3
   },
   "file_extension": ".py",
   "mimetype": "text/x-python",
   "name": "python",
   "nbconvert_exporter": "python",
   "pygments_lexer": "ipython3",
   "version": "3.11.4"
  }
 },
 "nbformat": 4,
 "nbformat_minor": 2
}
