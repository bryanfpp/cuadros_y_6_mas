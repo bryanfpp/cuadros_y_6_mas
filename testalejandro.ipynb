{
 "cells": [
  {
   "cell_type": "code",
   "execution_count": 12,
   "metadata": {},
   "outputs": [],
   "source": [
    "import CodeBase.dilan as di"
   ]
  },
  {
   "cell_type": "code",
   "execution_count": 13,
   "metadata": {},
   "outputs": [
    {
     "name": "stdout",
     "output_type": "stream",
     "text": [
      "[0, 5, 4, 1, 3]\n",
      "[0, 1, 3, 4, 5]\n",
      "[0, 1, 3, 4, 5]\n"
     ]
    }
   ],
   "source": [
    "clase_original = [0, 5, 4, 1, 3]\n",
    "print(clase_original)\n",
    "\n",
    "clases = di.ordenar_abs(clase_original)\n",
    "\n",
    "print(clase_original)\n",
    "print(clases)"
   ]
  }
 ],
 "metadata": {
  "kernelspec": {
   "display_name": "Python 3",
   "language": "python",
   "name": "python3"
  },
  "language_info": {
   "codemirror_mode": {
    "name": "ipython",
    "version": 3
   },
   "file_extension": ".py",
   "mimetype": "text/x-python",
   "name": "python",
   "nbconvert_exporter": "python",
   "pygments_lexer": "ipython3",
   "version": "3.11.9"
  }
 },
 "nbformat": 4,
 "nbformat_minor": 2
}
