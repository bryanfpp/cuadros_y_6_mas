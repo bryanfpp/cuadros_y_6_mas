{
 "cells": [
  {
   "cell_type": "markdown",
   "metadata": {},
   "source": []
  },
  {
   "cell_type": "code",
   "execution_count": 10,
   "metadata": {},
   "outputs": [],
   "source": [
    "import CodeBase.alejandro as al\n",
    "import CodeBase.bryan as br\n",
    "import CodeBase.dilan as di\n",
    "import CodeBase.galilea as ga\n",
    "import CodeBase.gustavo as gu\n",
    "import CodeBase.leilani as le\n",
    "import CodeBase.tb as tb"
   ]
  },
  {
   "cell_type": "code",
   "execution_count": 16,
   "metadata": {},
   "outputs": [
    {
     "name": "stdout",
     "output_type": "stream",
     "text": [
      "[1, 2, 3, 4, 5]\n",
      "[7, 7, 5, 6, 5]\n",
      "[23.333333333333332, 23.333333333333332, 16.666666666666664, 20.0, 16.666666666666664]\n",
      "[23.333333333333332, 46.666666666666664, 63.33333333333333, 83.33333333333333, 100.0]\n",
      "|   Clase |   Frecuancia |   Frecuancia Relativa |   Frecuancia Absoluta |\n",
      "|---------+--------------+-----------------------+-----------------------|\n",
      "|       1 |            7 |               23.3333 |               23.3333 |\n",
      "|       2 |            7 |               23.3333 |               46.6667 |\n",
      "|       3 |            5 |               16.6667 |               63.3333 |\n",
      "|       4 |            6 |               20      |               83.3333 |\n",
      "|       5 |            5 |               16.6667 |              100      |\n"
     ]
    }
   ],
   "source": [
    "ls = [3,2,1,4,5,3,2,1,4,5,3,2,1,4,5,3,2,1,4,5,3,2,1,4,5,3,2,4,3,2]\n",
    "clase_original,frecuencia = br.frec_abs(ls)\n",
    "clases = di.ordenar_abs(clase_original)\n",
    "fre_or = gu.fac_to(frecuencia,clases,clase_original)\n",
    "fr= ga.fr_abs(fre_or)\n",
    "fg = le.mu_abs(fr)\n",
    "suma = al.sum_abs(fg)\n",
    "suma_total = al.sum_abs(fg)\n",
    "print(clases)\n",
    "print(fre_or)\n",
    "print(fg)\n",
    "print(suma_total)\n",
    "\n",
    "tb.printTable([\"Clase\", \"Frecuancia\", \"Frecuancia Relativa\", \"Frecuancia Absoluta\"], [clases, fre_or, fg, suma_total])\n"
   ]
  }
 ],
 "metadata": {
  "kernelspec": {
   "display_name": "Python 3",
   "language": "python",
   "name": "python3"
  },
  "language_info": {
   "codemirror_mode": {
    "name": "ipython",
    "version": 3
   },
   "file_extension": ".py",
   "mimetype": "text/x-python",
   "name": "python",
   "nbconvert_exporter": "python",
   "pygments_lexer": "ipython3",
   "version": "3.11.9"
  }
 },
 "nbformat": 4,
 "nbformat_minor": 2
}
